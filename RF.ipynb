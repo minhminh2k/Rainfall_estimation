{
  "nbformat": 4,
  "nbformat_minor": 0,
  "metadata": {
    "colab": {
      "provenance": []
    },
    "kernelspec": {
      "name": "python3",
      "display_name": "Python 3"
    },
    "language_info": {
      "name": "python"
    }
  },
  "cells": [
    {
      "cell_type": "markdown",
      "source": [
        "# **Random Forest**"
      ],
      "metadata": {
        "id": "G2ecd88kdJbT"
      }
    },
    {
      "cell_type": "code",
      "execution_count": 1,
      "metadata": {
        "id": "2gMIRDEv1pp9"
      },
      "outputs": [],
      "source": [
        "import pandas as pd\n",
        "import numpy as np\n",
        "from sklearn.ensemble import RandomForestRegressor\n",
        "from sklearn.model_selection import train_test_split\n",
        "from sklearn.metrics import mean_squared_error, mean_absolute_error as mae\n",
        "from sklearn.model_selection import GridSearchCV, cross_val_score\n",
        "from xgboost import XGBRegressor\n",
        "from scipy.stats import pearsonr"
      ]
    },
    {
      "cell_type": "code",
      "source": [
        "# Đọc dữ liệu từ file excel: 1p\n",
        "data9 = pd.read_excel('drive/MyDrive/data_match9.xlsx', engine='openpyxl')\n",
        "data10 = pd.read_excel('drive/MyDrive/data_match10.xlsx', engine='openpyxl')\n",
        "\n",
        "data9.dropna(inplace=True)\n",
        "data10.dropna(inplace=True)\n",
        "\n",
        "print('Training...')"
      ],
      "metadata": {
        "id": "m4vv5wLn3cNY",
        "colab": {
          "base_uri": "https://localhost:8080/"
        },
        "outputId": "dd55de4a-9e55-44ce-f88e-1740cf8da560"
      },
      "execution_count": 2,
      "outputs": [
        {
          "output_type": "stream",
          "name": "stdout",
          "text": [
            "Training...\n"
          ]
        }
      ]
    },
    {
      "cell_type": "code",
      "source": [
        "X_9 = data9.iloc[:, 6: -1].values\n",
        "y_9 = data9.iloc[:, 4].values\n",
        "\n",
        "X_10 = data10.iloc[:, 6: -1].values\n",
        "y_10 = data10.iloc[:, 4].values\n",
        "\n",
        "X = np.concatenate((X_9, X_10), axis=0)\n",
        "y = np.concatenate((y_9, y_10), axis=0)\n",
        "\n",
        "# Chia dữ liệu thành 2 phần: tập huấn luyện và tập kiểm tra\n",
        "X_train, X_val, y_train, y_val = train_test_split(\n",
        "    X, y, test_size=0.2, random_state=0)\n",
        "\n",
        "print(X_train.shape)\n",
        "print(y_train.shape)\n",
        "print(X_val.shape)\n",
        "print(y_val.shape)"
      ],
      "metadata": {
        "colab": {
          "base_uri": "https://localhost:8080/"
        },
        "id": "KFhwMVBoEvuX",
        "outputId": "0f04527d-f463-49df-bd1d-1cd92faa4773"
      },
      "execution_count": 3,
      "outputs": [
        {
          "output_type": "stream",
          "name": "stdout",
          "text": [
            "(129548, 18)\n",
            "(129548,)\n",
            "(32388, 18)\n",
            "(32388,)\n"
          ]
        }
      ]
    },
    {
      "cell_type": "code",
      "source": [
        "#Test RF model: 30p\n",
        "test_model = RandomForestRegressor(n_estimators = 500, max_depth = 20, \n",
        "                                   min_samples_split = 5, min_samples_leaf = 2, random_state=42)\n",
        "test_model.fit(X_train, y_train)\n",
        "\n",
        "print('Training...')\n",
        "predicted_train_test = test_model.predict(X_train)\n",
        "print('Train R2 score:', test_model.score(X_train, y_train))\n",
        "mse = mean_squared_error(y_train, predicted_train_test)\n",
        "print(\"Train RMSE:\", np.sqrt(mse))\n",
        "corr_train_test, p_value_train_test = pearsonr(y_train, predicted_train_test)\n",
        "print('Train MAE:', mae(predicted_train_test, y_train))\n",
        "print('Train Pearson r:', corr_train_test, p_value_train_test)\n",
        "\n",
        "\n",
        "print('Validating...')\n",
        "predicted_val_test = test_model.predict(X_val)\n",
        "print('Validate R2 score:', test_model.score(X_val, y_val))\n",
        "mse = mean_squared_error(y_val, predicted_val_test)\n",
        "print(\"Validate RMSE:\", np.sqrt(mse))\n",
        "corr_val_test, p_value_val_test = pearsonr(y_val, predicted_val_test)\n",
        "print('Validate MAE:', mae(predicted_val_test, y_val))\n",
        "print('Validate Pearson r:', corr_val_test, p_value_val_test)\n"
      ],
      "metadata": {
        "colab": {
          "base_uri": "https://localhost:8080/"
        },
        "id": "th9xEi1FFMuB",
        "outputId": "f87725a7-9b21-4115-c6b5-82387e097b16"
      },
      "execution_count": 4,
      "outputs": [
        {
          "output_type": "stream",
          "name": "stdout",
          "text": [
            "Training...\n",
            "Train R2 score: 0.704008843137194\n",
            "Train RMSE: 1.292441657737026\n",
            "Train MAE: 0.30121781698447925\n",
            "Train Pearson r: 0.8743976804586243 0.0\n",
            "Validating...\n",
            "Validate R2 score: 0.2611384362149086\n",
            "Validate RMSE: 1.9958515212932502\n",
            "Validate MAE: 0.4710894378126883\n",
            "Validate Pearson r: 0.5126464144148603 0.0\n"
          ]
        }
      ]
    },
    {
      "cell_type": "code",
      "source": [],
      "metadata": {
        "id": "bO-yRMlREdwP"
      },
      "execution_count": null,
      "outputs": []
    },
    {
      "cell_type": "markdown",
      "source": [
        "# **Tối ưu tham số + grid-search**"
      ],
      "metadata": {
        "id": "F8yH1jCaJ-cN"
      }
    },
    {
      "cell_type": "code",
      "source": [
        "#Runtime: 4h\n",
        "# Xây dựng mô hình Random Forest\n",
        "rf_model = RandomForestRegressor(random_state=42)\n",
        "\n",
        "# Define hyperparameters grid\n",
        "param_grid = {\n",
        "    'n_estimators': [50, 150],\n",
        "    'max_depth': [10, 20],\n",
        "    'min_samples_split': [2, 5],\n",
        "    'min_samples_leaf': [1, 2]\n",
        "}\n",
        "\n",
        "# Apply Grid Search\n",
        "grid_search = GridSearchCV(\n",
        "    estimator=rf_model, param_grid=param_grid, cv=5, n_jobs= -1 )\n",
        "grid_search.fit(X_train, y_train)\n",
        "print(\"Best parameters: \", grid_search.best_params_)\n",
        "\n",
        "best_rf = RandomForestRegressor(**grid_search.best_params_, random_state=42)\n",
        "best_rf.fit(X_train, y_train)\n",
        "#Đánh giá trên training set\n",
        "print('Training...')\n",
        "predicted_train = best_rf.predict(X_train)\n",
        "print('Train R2 score:', best_rf.score(X_train, y_train))\n",
        "mse = mean_squared_error(y_train, predicted_train)\n",
        "print(\"Train RMSE:\", np.sqrt(mse))\n",
        "corr_train, p_value_train = pearsonr(y_train, predicted_train)\n",
        "print('Train MAE:', mae(predicted_train, y_train))\n",
        "print('Train Pearson r:', corr_train, p_value_train)\n",
        "\n",
        "\n",
        "print('Validating...')\n",
        "# Validation set\n",
        "predicted_val = best_rf.predict(X_val)\n",
        "print('Validate R2 score:', best_rf.score(X_val, y_val))\n",
        "mse = mean_squared_error(y_val, predicted_val)\n",
        "print(\"Validate RMSE:\", np.sqrt(mse))\n",
        "corr_val, p_value_val = pearsonr(y_val, predicted_val)\n",
        "print('Validate MAE:', mae(predicted_val, y_val))\n",
        "print('Validate Pearson r:', corr_val, p_value_val)\n",
        "\n",
        "\n"
      ],
      "metadata": {
        "id": "ds_Ei8rb6-sI",
        "colab": {
          "base_uri": "https://localhost:8080/"
        },
        "outputId": "54dfacbb-5603-4c7c-ad4e-c92fbe062217"
      },
      "execution_count": 4,
      "outputs": [
        {
          "output_type": "stream",
          "name": "stdout",
          "text": [
            "Best parameters:  {'max_depth': 20, 'min_samples_leaf': 2, 'min_samples_split': 2, 'n_estimators': 150}\n",
            "Training...\n",
            "Train R2 score: 0.719485716424831\n",
            "Train RMSE: 1.2581982293244987\n",
            "Train MAE: 0.2935161782344026\n",
            "Train Pearson r: 0.8820962815534288 0.0\n",
            "Validating...\n",
            "Validate R2 score: 0.2620227458609248\n",
            "Validate RMSE: 1.9946567919607732\n",
            "Validate MAE: 0.4696412617253077\n",
            "Validate Pearson r: 0.5140331212798706 0.0\n"
          ]
        }
      ]
    },
    {
      "cell_type": "code",
      "source": [
        "print(\"Best parameters: \", grid_search.best_params_)"
      ],
      "metadata": {
        "id": "50a5SHAI81RJ",
        "colab": {
          "base_uri": "https://localhost:8080/"
        },
        "outputId": "f659041a-5fbf-417a-deb0-6bd91c43bc23"
      },
      "execution_count": 5,
      "outputs": [
        {
          "output_type": "stream",
          "name": "stdout",
          "text": [
            "Best parameters:  {'max_depth': 20, 'min_samples_leaf': 2, 'min_samples_split': 2, 'n_estimators': 150}\n"
          ]
        }
      ]
    },
    {
      "cell_type": "code",
      "source": [
        "test_model = None\n",
        "grid_search = None\n",
        "model = None\n",
        "rf_model = None\n",
        "best_rf = None\n",
        "print()"
      ],
      "metadata": {
        "colab": {
          "base_uri": "https://localhost:8080/"
        },
        "id": "NE1GrRTGR_Ih",
        "outputId": "fbcf47fe-eab1-430c-c630-652773c9e756"
      },
      "execution_count": 6,
      "outputs": [
        {
          "output_type": "stream",
          "name": "stdout",
          "text": [
            "\n"
          ]
        }
      ]
    }
  ]
}