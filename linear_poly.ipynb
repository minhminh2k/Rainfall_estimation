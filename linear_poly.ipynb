{
  "nbformat": 4,
  "nbformat_minor": 0,
  "metadata": {
    "colab": {
      "provenance": []
    },
    "kernelspec": {
      "name": "python3",
      "display_name": "Python 3"
    },
    "language_info": {
      "name": "python"
    }
  },
  "cells": [
    {
      "cell_type": "markdown",
      "source": [
        "### **Polynomial Regression**"
      ],
      "metadata": {
        "id": "TUcZLpUXc_dG"
      }
    },
    {
      "cell_type": "code",
      "execution_count": null,
      "metadata": {
        "colab": {
          "base_uri": "https://localhost:8080/"
        },
        "id": "rL2RHYuZLEo0",
        "outputId": "71909cee-f2f4-4e3c-b215-1287bfa95800"
      },
      "outputs": [
        {
          "output_type": "stream",
          "name": "stdout",
          "text": [
            "loading model...\n"
          ]
        }
      ],
      "source": [
        "from sklearn.metrics import r2_score, mean_squared_error as mse, mean_absolute_error as mae\n",
        "import pandas as pd\n",
        "import numpy as np\n",
        "import matplotlib.pyplot as plt\n",
        "from sklearn.preprocessing import PolynomialFeatures\n",
        "from sklearn.linear_model import LinearRegression\n",
        "from sklearn.model_selection import train_test_split\n",
        "from sklearn.model_selection import GridSearchCV, cross_val_score\n",
        "from sklearn.pipeline import Pipeline\n",
        "from scipy.stats import pearsonr\n",
        "# Đọc dữ liệu từ file Excel\n",
        "data9 = pd.read_excel('drive/MyDrive/data_match9.xlsx', engine='openpyxl')\n",
        "data10 = pd.read_excel('drive/MyDrive/data_match10.xlsx', engine='openpyxl')\n",
        "\n",
        "data9.dropna(inplace=True)\n",
        "data10.dropna(inplace=True)\n",
        "\n",
        "# data9.fillna(0, inplace=True)\n",
        "# data10.fillna(0, inplace=True)\n",
        "\n",
        "print('loading model...')\n",
        "\n"
      ]
    },
    {
      "cell_type": "code",
      "source": [
        "X_9 = data9.iloc[:, 6: -1].values\n",
        "y_9 = data9.iloc[:, 4].values\n",
        "\n",
        "X_10 = data10.iloc[:, 6: -1].values\n",
        "y_10 = data10.iloc[:, 4].values\n",
        "\n",
        "X = np.concatenate((X_9, X_10), axis=0)\n",
        "y = np.concatenate((y_9, y_10), axis=0)\n",
        "\n",
        "# Chia dữ liệu thành 2 phần: tập huấn luyện và tập kiểm tra\n",
        "X_train, X_val, y_train, y_val = train_test_split(\n",
        "    X, y, test_size=0.2, random_state=0)\n",
        "\n",
        "print(X_train.shape)\n",
        "print(y_train.shape)\n",
        "print(X_val.shape)\n",
        "print(y_val.shape)\n"
      ],
      "metadata": {
        "colab": {
          "base_uri": "https://localhost:8080/"
        },
        "id": "nSg_bI3TYJk0",
        "outputId": "b9005f84-2865-42ce-a826-7339666c9173"
      },
      "execution_count": null,
      "outputs": [
        {
          "output_type": "stream",
          "name": "stdout",
          "text": [
            "(129548, 18)\n",
            "(129548,)\n",
            "(32388, 18)\n",
            "(32388,)\n"
          ]
        }
      ]
    },
    {
      "cell_type": "markdown",
      "source": [
        "# **Linear Regression**"
      ],
      "metadata": {
        "id": "E_GJ1H7VapF5"
      }
    },
    {
      "cell_type": "code",
      "source": [
        "print('Training...')\n",
        "\n",
        "# Khởi tạo mô hình Linear Regression\n",
        "lr_model = LinearRegression().fit(X_train, y_train)\n",
        "predicted_train = lr_model.predict(X_train)\n",
        "\n",
        "corr_train, p_value_train = pearsonr(y_train, predicted_train)\n",
        "print('Train R2 score: ', lr_model.score(X_train, y_train))\n",
        "print('Train RMSE:', np.sqrt(mse(y_train, predicted_train)))\n",
        "print('Train MAE:', mae(predicted_train, y_train))\n",
        "print('Train Pearson r:', corr_train, p_value_train)\n",
        "\n",
        "print('Validating...')\n",
        "predicted_val = lr_model.predict(X_val)\n",
        "\n",
        "corr_val, p_value_val = pearsonr(y_val, predicted_val)\n",
        "print('Validate R2 score:', lr_model.score(X_val, y_val))\n",
        "print('Validate RMSE:', np.sqrt(mse(y_val, predicted_val)))\n",
        "print('Validate MAE:', mae(predicted_val, y_val))\n",
        "print('Validate Pearson r:', corr_val, p_value_val)\n",
        "\n",
        "\n"
      ],
      "metadata": {
        "colab": {
          "base_uri": "https://localhost:8080/"
        },
        "id": "1rg2sFYoal2b",
        "outputId": "f724393f-3d6c-404d-fd9e-33d333d12707"
      },
      "execution_count": null,
      "outputs": [
        {
          "output_type": "stream",
          "name": "stdout",
          "text": [
            "Training...\n",
            "Train R2 score:  0.11008462592671153\n",
            "Train RMSE: 2.241021042464224\n",
            "Train MAE: 0.6117372505098349\n",
            "Train Pearson r: 0.33179003289235726 0.0\n",
            "Validating...\n",
            "Validate R2 score: 0.09374820351055368\n",
            "Validate RMSE: 2.2104013250744132\n",
            "Validate MAE: 0.6177014732489081\n",
            "Validate Pearson r: 0.3073711985403972 0.0\n"
          ]
        }
      ]
    },
    {
      "cell_type": "markdown",
      "source": [
        "# **Polynomial Regression**"
      ],
      "metadata": {
        "id": "ZjqCb6kOb6ue"
      }
    },
    {
      "cell_type": "code",
      "source": [
        "print('Training...')\n",
        "# # Áp dụng Polynomial Regression với bậc 3\n",
        "poly_model = PolynomialFeatures(degree=3)\n",
        "X_train_poly = poly_model.fit_transform(X_train)\n",
        "\n",
        "# Khởi tạo mô hình Poly Regression\n",
        "pr_model = LinearRegression().fit(X_train_poly, y_train)\n",
        "predicted_train = pr_model.predict(X_train_poly)\n",
        "\n",
        "print('Train R2 score: ', pr_model.score(X_train_poly, y_train))\n",
        "print('Train RMSE:', np.sqrt(mse(y_train, predicted_train)))\n",
        "corr_train, p_value_train = pearsonr(y_train, predicted_train)\n",
        "print('Train MAE:', mae(predicted_train, y_train))\n",
        "print('Train Pearson r:', corr_train, p_value_train)\n",
        "\n",
        "\n",
        "print('Validating...')\n",
        "X_val_poly = poly_model.transform(X_val)\n",
        "predicted_val = pr_model.predict(X_val_poly)\n",
        "\n",
        "print('Validate R2 score:', pr_model.score(X_val_poly, y_val))\n",
        "print('Validate RMSE:', np.sqrt(mse(y_val, predicted_val)))\n",
        "corr_val, p_value_val = pearsonr(y_val, predicted_val)\n",
        "print('Validate MAE:', mae(predicted_val, y_val))\n",
        "print('Validate Pearson r:', corr_val, p_value_val)\n",
        "\n"
      ],
      "metadata": {
        "colab": {
          "base_uri": "https://localhost:8080/"
        },
        "id": "7lpA5j7wPrK5",
        "outputId": "29a00a57-d2b0-4edb-a13a-ae6de3c9dcb1"
      },
      "execution_count": null,
      "outputs": [
        {
          "output_type": "stream",
          "name": "stdout",
          "text": [
            "Training...\n",
            "Train R2 score:  0.21330405145152231\n",
            "Train RMSE: 2.1070509456968556\n",
            "Train MAE: 0.5905071015815896\n",
            "Train Pearson r: 0.4618958102732197 0.0\n",
            "Validating...\n",
            "Validate R2 score: 0.15255869838676805\n",
            "Validate RMSE: 2.1374772702281155\n",
            "Validate MAE: 0.6142307477284974\n",
            "Validate Pearson r: 0.40070625026619594 0.0\n"
          ]
        }
      ]
    },
    {
      "cell_type": "code",
      "source": [
        "print(predicted_val)"
      ],
      "metadata": {
        "colab": {
          "base_uri": "https://localhost:8080/"
        },
        "id": "AnzUUhp3otrS",
        "outputId": "b97c5d92-dd2b-4c01-9ae3-61519d3caa78"
      },
      "execution_count": null,
      "outputs": [
        {
          "output_type": "stream",
          "name": "stdout",
          "text": [
            "[ 3.18684732e-01  2.01304652e+00 -2.57781428e-01 ... -6.91500325e+00\n",
            "  4.60536779e-03  2.31223159e+00]\n"
          ]
        }
      ]
    },
    {
      "cell_type": "code",
      "source": [
        "# Define the polynomial degrees we want to test\n",
        "\n",
        "# OPTIMIZING\n",
        "pipeline = Pipeline([\n",
        "    ('poly', PolynomialFeatures()),\n",
        "    ('linear', LinearRegression())\n",
        "])\n",
        "# Tham số cho Grid Search\n",
        "parameters = {\n",
        "    'poly__degree': [1, 2, 3]\n",
        "}\n",
        "\n",
        "# Tìm kiếm lưới\n",
        "grid_search = GridSearchCV(pipeline, parameters, cv=5)\n",
        "grid_search.fit(X_train, y_train)\n",
        "\n",
        "# In bậc tối ưu\n",
        "print('Bậc tối ưu:', grid_search.best_params_['poly__degree'])\n",
        "best_pr = grid_search.best_estimator_\n",
        "best_pr.fit(X_train, y_train)\n",
        "# Đánh giá hiệu suất trên tập validate\n",
        "\n",
        "y_pred_train = best_pr.predict(X_train)\n",
        "rmse = np.sqrt(mse(y_train, y_pred_train))\n",
        "r2 = r2_score(y_train, y_pred_train)\n",
        "corr_train, p_value_train = pearsonr(y_train, y_pred_train)\n",
        "print('Train R2 score:', r2)\n",
        "print('Train RMSE:', rmse)\n",
        "print('Train MAE:', mae(y_pred_train, y_train))\n",
        "print('Train Pearson r:', corr_train, p_value_train)\n",
        "\n",
        "\n",
        "y_pred_val = best_pr.predict(X_val)\n",
        "rmse = np.sqrt(mse(y_val, y_pred_val))\n",
        "r2 = r2_score(y_val, y_pred_val)\n",
        "corr_val, p_value_val = pearsonr(y_val, y_pred_val)\n",
        "print('Validate R2 score:', r2)\n",
        "print('Validate RMSE:', rmse)\n",
        "print('Validate MAE:', mae(y_pred_val, y_val))\n",
        "print('Validate Pearson r:', corr_val, p_value_val)\n"
      ],
      "metadata": {
        "colab": {
          "base_uri": "https://localhost:8080/"
        },
        "id": "BKed9boTPvjl",
        "outputId": "ffd69c01-c8b2-4775-9ec2-47071ce06558"
      },
      "execution_count": null,
      "outputs": [
        {
          "output_type": "stream",
          "name": "stdout",
          "text": [
            "Bậc tối ưu: 3\n",
            "Train R2 score: 0.21330405145152231\n",
            "Train RMSE: 2.1070509456968556\n",
            "Train MAE: 0.5905071015815896\n",
            "Train Pearson r: 0.4618958102732197 0.0\n",
            "Validate R2 score: 0.15255869838676805\n",
            "Validate RMSE: 2.1374772702281155\n",
            "Validate MAE: 0.6142307477284974\n",
            "Validate Pearson r: 0.40070625026619594 0.0\n"
          ]
        }
      ]
    },
    {
      "cell_type": "code",
      "source": [
        "# # Visualize results\n",
        "# plt.scatter(X_val, y_val, color='blue')\n",
        "# plt.plot(X_val_poly, y_pred_val, color='red')\n",
        "# plt.title('Polynomial Regression')\n",
        "# plt.xlabel('Features')\n",
        "# plt.ylabel('Estimation')\n",
        "# plt.show()\n",
        "print(grid_search.best_params_)"
      ],
      "metadata": {
        "id": "zFXh63DfSFE4",
        "colab": {
          "base_uri": "https://localhost:8080/"
        },
        "outputId": "c6443458-c4c9-467c-db73-d05a3a68cae0"
      },
      "execution_count": null,
      "outputs": [
        {
          "output_type": "stream",
          "name": "stdout",
          "text": [
            "{'poly__degree': 3}\n"
          ]
        }
      ]
    },
    {
      "cell_type": "code",
      "source": [
        "pr_model = None\n",
        "poly = None\n",
        "poly_model = None\n",
        "lr_model = None\n",
        "best_pr = None\n",
        "print()\n"
      ],
      "metadata": {
        "id": "_CBSBoG3Pyx2",
        "colab": {
          "base_uri": "https://localhost:8080/"
        },
        "outputId": "6004d577-a611-4c3d-eb8d-8670328638c9"
      },
      "execution_count": null,
      "outputs": [
        {
          "output_type": "stream",
          "name": "stdout",
          "text": [
            "\n"
          ]
        }
      ]
    }
  ]
}